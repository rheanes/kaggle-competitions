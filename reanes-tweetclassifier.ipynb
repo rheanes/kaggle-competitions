{
 "cells": [
  {
   "cell_type": "code",
   "execution_count": 1,
   "id": "f623bb62",
   "metadata": {
    "_cell_guid": "b1076dfc-b9ad-4769-8c92-a6c4dae69d19",
    "_uuid": "8f2839f25d086af736a60e9eeb907d3b93b6e0e5",
    "execution": {
     "iopub.execute_input": "2022-08-20T21:34:45.465416Z",
     "iopub.status.busy": "2022-08-20T21:34:45.464936Z",
     "iopub.status.idle": "2022-08-20T21:34:47.316989Z",
     "shell.execute_reply": "2022-08-20T21:34:47.316052Z"
    },
    "papermill": {
     "duration": 1.863554,
     "end_time": "2022-08-20T21:34:47.322614",
     "exception": false,
     "start_time": "2022-08-20T21:34:45.459060",
     "status": "completed"
    },
    "tags": []
   },
   "outputs": [
    {
     "name": "stdout",
     "output_type": "stream",
     "text": [
      "/kaggle/input/nlp-getting-started/sample_submission.csv\n",
      "/kaggle/input/nlp-getting-started/train.csv\n",
      "/kaggle/input/nlp-getting-started/test.csv\n"
     ]
    },
    {
     "name": "stderr",
     "output_type": "stream",
     "text": [
      "[nltk_data] Downloading package stopwords to /usr/share/nltk_data...\n",
      "[nltk_data]   Package stopwords is already up-to-date!\n",
      "[nltk_data] Downloading package punkt to /usr/share/nltk_data...\n",
      "[nltk_data]   Package punkt is already up-to-date!\n"
     ]
    }
   ],
   "source": [
    "# This Python 3 environment comes with many helpful analytics libraries installed\n",
    "# It is defined by the kaggle/python Docker image: https://github.com/kaggle/docker-python\n",
    "# For example, here's several helpful packages to load\n",
    "\n",
    "import numpy as np # linear algebra\n",
    "import pandas as pd # data processing, CSV file I/O (e.g. pd.read_csv)\n",
    "import nltk\n",
    "nltk.download('stopwords')\n",
    "nltk.download('punkt')\n",
    "from nltk.corpus import stopwords\n",
    "from nltk.stem.porter import PorterStemmer\n",
    "from nltk.tokenize import word_tokenize\n",
    "import re\n",
    "import string\n",
    "\n",
    "# Input data files are available in the read-only \"../input/\" directory\n",
    "# For example, running this (by clicking run or pressing Shift+Enter) will list all files under the input directory\n",
    "\n",
    "import os\n",
    "for dirname, _, filenames in os.walk('/kaggle/input'):\n",
    "    for filename in filenames:\n",
    "        print(os.path.join(dirname, filename))\n",
    "\n",
    "# You can write up to 20GB to the current directory (/kaggle/working/) that gets preserved as output when you create a version using \"Save & Run All\" \n",
    "# You can also write temporary files to /kaggle/temp/, but they won't be saved outside of the current session"
   ]
  },
  {
   "cell_type": "code",
   "execution_count": 2,
   "id": "fd8808d3",
   "metadata": {
    "execution": {
     "iopub.execute_input": "2022-08-20T21:34:47.332687Z",
     "iopub.status.busy": "2022-08-20T21:34:47.331853Z",
     "iopub.status.idle": "2022-08-20T21:34:47.420046Z",
     "shell.execute_reply": "2022-08-20T21:34:47.418937Z"
    },
    "papermill": {
     "duration": 0.095854,
     "end_time": "2022-08-20T21:34:47.422822",
     "exception": false,
     "start_time": "2022-08-20T21:34:47.326968",
     "status": "completed"
    },
    "tags": []
   },
   "outputs": [],
   "source": [
    "train = pd.read_csv(\"/kaggle/input/nlp-getting-started/train.csv\")\n",
    "test = pd.read_csv('../input/nlp-getting-started/test.csv')\n",
    "sub = pd.read_csv('../input/nlp-getting-started/sample_submission.csv')\n",
    "train.drop('location', inplace=True, axis=1)\n",
    "test.drop('location', inplace=True, axis=1)"
   ]
  },
  {
   "cell_type": "code",
   "execution_count": 3,
   "id": "1f9c7a84",
   "metadata": {
    "execution": {
     "iopub.execute_input": "2022-08-20T21:34:47.431202Z",
     "iopub.status.busy": "2022-08-20T21:34:47.430794Z",
     "iopub.status.idle": "2022-08-20T21:34:47.446084Z",
     "shell.execute_reply": "2022-08-20T21:34:47.445066Z"
    },
    "papermill": {
     "duration": 0.022191,
     "end_time": "2022-08-20T21:34:47.448449",
     "exception": false,
     "start_time": "2022-08-20T21:34:47.426258",
     "status": "completed"
    },
    "tags": []
   },
   "outputs": [
    {
     "data": {
      "text/html": [
       "<div>\n",
       "<style scoped>\n",
       "    .dataframe tbody tr th:only-of-type {\n",
       "        vertical-align: middle;\n",
       "    }\n",
       "\n",
       "    .dataframe tbody tr th {\n",
       "        vertical-align: top;\n",
       "    }\n",
       "\n",
       "    .dataframe thead th {\n",
       "        text-align: right;\n",
       "    }\n",
       "</style>\n",
       "<table border=\"1\" class=\"dataframe\">\n",
       "  <thead>\n",
       "    <tr style=\"text-align: right;\">\n",
       "      <th></th>\n",
       "      <th>id</th>\n",
       "      <th>keyword</th>\n",
       "      <th>text</th>\n",
       "      <th>target</th>\n",
       "    </tr>\n",
       "  </thead>\n",
       "  <tbody>\n",
       "    <tr>\n",
       "      <th>0</th>\n",
       "      <td>1</td>\n",
       "      <td>NaN</td>\n",
       "      <td>Our Deeds are the Reason of this #earthquake M...</td>\n",
       "      <td>1</td>\n",
       "    </tr>\n",
       "    <tr>\n",
       "      <th>1</th>\n",
       "      <td>4</td>\n",
       "      <td>NaN</td>\n",
       "      <td>Forest fire near La Ronge Sask. Canada</td>\n",
       "      <td>1</td>\n",
       "    </tr>\n",
       "    <tr>\n",
       "      <th>2</th>\n",
       "      <td>5</td>\n",
       "      <td>NaN</td>\n",
       "      <td>All residents asked to 'shelter in place' are ...</td>\n",
       "      <td>1</td>\n",
       "    </tr>\n",
       "    <tr>\n",
       "      <th>3</th>\n",
       "      <td>6</td>\n",
       "      <td>NaN</td>\n",
       "      <td>13,000 people receive #wildfires evacuation or...</td>\n",
       "      <td>1</td>\n",
       "    </tr>\n",
       "    <tr>\n",
       "      <th>4</th>\n",
       "      <td>7</td>\n",
       "      <td>NaN</td>\n",
       "      <td>Just got sent this photo from Ruby #Alaska as ...</td>\n",
       "      <td>1</td>\n",
       "    </tr>\n",
       "  </tbody>\n",
       "</table>\n",
       "</div>"
      ],
      "text/plain": [
       "   id keyword                                               text  target\n",
       "0   1     NaN  Our Deeds are the Reason of this #earthquake M...       1\n",
       "1   4     NaN             Forest fire near La Ronge Sask. Canada       1\n",
       "2   5     NaN  All residents asked to 'shelter in place' are ...       1\n",
       "3   6     NaN  13,000 people receive #wildfires evacuation or...       1\n",
       "4   7     NaN  Just got sent this photo from Ruby #Alaska as ...       1"
      ]
     },
     "execution_count": 3,
     "metadata": {},
     "output_type": "execute_result"
    }
   ],
   "source": [
    "train.head()"
   ]
  },
  {
   "cell_type": "code",
   "execution_count": 4,
   "id": "e97ab794",
   "metadata": {
    "execution": {
     "iopub.execute_input": "2022-08-20T21:34:47.456850Z",
     "iopub.status.busy": "2022-08-20T21:34:47.456458Z",
     "iopub.status.idle": "2022-08-20T21:34:47.466249Z",
     "shell.execute_reply": "2022-08-20T21:34:47.465264Z"
    },
    "papermill": {
     "duration": 0.016636,
     "end_time": "2022-08-20T21:34:47.468519",
     "exception": false,
     "start_time": "2022-08-20T21:34:47.451883",
     "status": "completed"
    },
    "tags": []
   },
   "outputs": [
    {
     "data": {
      "text/plain": [
       "id          0\n",
       "keyword    61\n",
       "text        0\n",
       "target      0\n",
       "dtype: int64"
      ]
     },
     "execution_count": 4,
     "metadata": {},
     "output_type": "execute_result"
    }
   ],
   "source": [
    "#look over train set\n",
    "train.isnull().sum()"
   ]
  },
  {
   "cell_type": "code",
   "execution_count": 5,
   "id": "5d9cd326",
   "metadata": {
    "execution": {
     "iopub.execute_input": "2022-08-20T21:34:47.477160Z",
     "iopub.status.busy": "2022-08-20T21:34:47.476775Z",
     "iopub.status.idle": "2022-08-20T21:34:47.488126Z",
     "shell.execute_reply": "2022-08-20T21:34:47.487215Z"
    },
    "papermill": {
     "duration": 0.018354,
     "end_time": "2022-08-20T21:34:47.490391",
     "exception": false,
     "start_time": "2022-08-20T21:34:47.472037",
     "status": "completed"
    },
    "tags": []
   },
   "outputs": [],
   "source": [
    "#drop duplicates\n",
    "train = train.drop_duplicates(subset=['text', 'target'], keep='first')"
   ]
  },
  {
   "cell_type": "code",
   "execution_count": 6,
   "id": "1915bb50",
   "metadata": {
    "execution": {
     "iopub.execute_input": "2022-08-20T21:34:47.499272Z",
     "iopub.status.busy": "2022-08-20T21:34:47.498897Z",
     "iopub.status.idle": "2022-08-20T21:34:47.505917Z",
     "shell.execute_reply": "2022-08-20T21:34:47.504873Z"
    },
    "papermill": {
     "duration": 0.014294,
     "end_time": "2022-08-20T21:34:47.508230",
     "exception": false,
     "start_time": "2022-08-20T21:34:47.493936",
     "status": "completed"
    },
    "tags": []
   },
   "outputs": [
    {
     "data": {
      "text/plain": [
       "(7521, 4)"
      ]
     },
     "execution_count": 6,
     "metadata": {},
     "output_type": "execute_result"
    }
   ],
   "source": [
    "train.shape"
   ]
  },
  {
   "cell_type": "code",
   "execution_count": 7,
   "id": "454bf781",
   "metadata": {
    "execution": {
     "iopub.execute_input": "2022-08-20T21:34:47.517918Z",
     "iopub.status.busy": "2022-08-20T21:34:47.517498Z",
     "iopub.status.idle": "2022-08-20T21:34:47.526274Z",
     "shell.execute_reply": "2022-08-20T21:34:47.525154Z"
    },
    "papermill": {
     "duration": 0.01672,
     "end_time": "2022-08-20T21:34:47.528616",
     "exception": false,
     "start_time": "2022-08-20T21:34:47.511896",
     "status": "completed"
    },
    "tags": []
   },
   "outputs": [],
   "source": [
    "pstem = PorterStemmer()\n",
    "def cleanText(text):\n",
    "    '''\n",
    "        this takes in text, which will be pulled from the text part of the dataframe\n",
    "        cleaning: remove punctuation -> lowercase all letters-> remove url -> remove stopwords\n",
    "        ->tokenize -> stem\n",
    "        \n",
    "        removing punctuaution will get rid of all emojis, and most urls. \n",
    "    '''\n",
    "    text = text.lower()\n",
    "    text = \"\".join([char for char in text if char not in string.punctuation])\n",
    "    text = re.sub('\\d+', 'regnum', text)\n",
    "    tokens = word_tokenize(text)\n",
    "    tokens = [pstem.stem(word) for word in tokens]\n",
    "    tokens = [word for word in tokens if word not in stopwords.words('english')]\n",
    "    text = ' '.join(tokens)\n",
    "    \n",
    "    return text\n"
   ]
  },
  {
   "cell_type": "code",
   "execution_count": 8,
   "id": "be62e911",
   "metadata": {
    "execution": {
     "iopub.execute_input": "2022-08-20T21:34:47.537664Z",
     "iopub.status.busy": "2022-08-20T21:34:47.537294Z",
     "iopub.status.idle": "2022-08-20T21:35:16.053327Z",
     "shell.execute_reply": "2022-08-20T21:35:16.052021Z"
    },
    "papermill": {
     "duration": 28.524555,
     "end_time": "2022-08-20T21:35:16.056917",
     "exception": false,
     "start_time": "2022-08-20T21:34:47.532362",
     "status": "completed"
    },
    "tags": []
   },
   "outputs": [],
   "source": [
    "train[\"clean\"] = train[\"text\"].apply(cleanText)\n",
    "test[\"clean\"] = test[\"text\"].apply(cleanText)"
   ]
  },
  {
   "cell_type": "code",
   "execution_count": 9,
   "id": "abaeb0e6",
   "metadata": {
    "execution": {
     "iopub.execute_input": "2022-08-20T21:35:16.069309Z",
     "iopub.status.busy": "2022-08-20T21:35:16.068889Z",
     "iopub.status.idle": "2022-08-20T21:35:16.081953Z",
     "shell.execute_reply": "2022-08-20T21:35:16.081167Z"
    },
    "papermill": {
     "duration": 0.022138,
     "end_time": "2022-08-20T21:35:16.084516",
     "exception": false,
     "start_time": "2022-08-20T21:35:16.062378",
     "status": "completed"
    },
    "tags": []
   },
   "outputs": [
    {
     "data": {
      "text/html": [
       "<div>\n",
       "<style scoped>\n",
       "    .dataframe tbody tr th:only-of-type {\n",
       "        vertical-align: middle;\n",
       "    }\n",
       "\n",
       "    .dataframe tbody tr th {\n",
       "        vertical-align: top;\n",
       "    }\n",
       "\n",
       "    .dataframe thead th {\n",
       "        text-align: right;\n",
       "    }\n",
       "</style>\n",
       "<table border=\"1\" class=\"dataframe\">\n",
       "  <thead>\n",
       "    <tr style=\"text-align: right;\">\n",
       "      <th></th>\n",
       "      <th>text</th>\n",
       "      <th>clean</th>\n",
       "    </tr>\n",
       "  </thead>\n",
       "  <tbody>\n",
       "    <tr>\n",
       "      <th>0</th>\n",
       "      <td>Our Deeds are the Reason of this #earthquake M...</td>\n",
       "      <td>deed reason thi earthquak may allah forgiv us</td>\n",
       "    </tr>\n",
       "    <tr>\n",
       "      <th>1</th>\n",
       "      <td>Forest fire near La Ronge Sask. Canada</td>\n",
       "      <td>forest fire near la rong sask canada</td>\n",
       "    </tr>\n",
       "    <tr>\n",
       "      <th>2</th>\n",
       "      <td>All residents asked to 'shelter in place' are ...</td>\n",
       "      <td>resid ask shelter place notifi offic evacu she...</td>\n",
       "    </tr>\n",
       "    <tr>\n",
       "      <th>3</th>\n",
       "      <td>13,000 people receive #wildfires evacuation or...</td>\n",
       "      <td>regnum peopl receiv wildfir evacu order califo...</td>\n",
       "    </tr>\n",
       "    <tr>\n",
       "      <th>4</th>\n",
       "      <td>Just got sent this photo from Ruby #Alaska as ...</td>\n",
       "      <td>got sent thi photo rubi alaska smoke wildfir p...</td>\n",
       "    </tr>\n",
       "  </tbody>\n",
       "</table>\n",
       "</div>"
      ],
      "text/plain": [
       "                                                text  \\\n",
       "0  Our Deeds are the Reason of this #earthquake M...   \n",
       "1             Forest fire near La Ronge Sask. Canada   \n",
       "2  All residents asked to 'shelter in place' are ...   \n",
       "3  13,000 people receive #wildfires evacuation or...   \n",
       "4  Just got sent this photo from Ruby #Alaska as ...   \n",
       "\n",
       "                                               clean  \n",
       "0      deed reason thi earthquak may allah forgiv us  \n",
       "1               forest fire near la rong sask canada  \n",
       "2  resid ask shelter place notifi offic evacu she...  \n",
       "3  regnum peopl receiv wildfir evacu order califo...  \n",
       "4  got sent thi photo rubi alaska smoke wildfir p...  "
      ]
     },
     "execution_count": 9,
     "metadata": {},
     "output_type": "execute_result"
    }
   ],
   "source": [
    "train[[\"text\",\"clean\"]].head()"
   ]
  }
 ],
 "metadata": {
  "kernelspec": {
   "display_name": "Python 3",
   "language": "python",
   "name": "python3"
  },
  "language_info": {
   "codemirror_mode": {
    "name": "ipython",
    "version": 3
   },
   "file_extension": ".py",
   "mimetype": "text/x-python",
   "name": "python",
   "nbconvert_exporter": "python",
   "pygments_lexer": "ipython3",
   "version": "3.7.12"
  },
  "papermill": {
   "default_parameters": {},
   "duration": 40.05416,
   "end_time": "2022-08-20T21:35:16.811757",
   "environment_variables": {},
   "exception": null,
   "input_path": "__notebook__.ipynb",
   "output_path": "__notebook__.ipynb",
   "parameters": {},
   "start_time": "2022-08-20T21:34:36.757597",
   "version": "2.3.4"
  }
 },
 "nbformat": 4,
 "nbformat_minor": 5
}
