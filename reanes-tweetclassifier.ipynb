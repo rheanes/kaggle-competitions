{
 "cells": [
  {
   "cell_type": "code",
   "execution_count": 1,
   "id": "2c282c58",
   "metadata": {
    "_cell_guid": "b1076dfc-b9ad-4769-8c92-a6c4dae69d19",
    "_uuid": "8f2839f25d086af736a60e9eeb907d3b93b6e0e5",
    "execution": {
     "iopub.execute_input": "2022-08-20T18:57:35.465932Z",
     "iopub.status.busy": "2022-08-20T18:57:35.464326Z",
     "iopub.status.idle": "2022-08-20T18:57:35.482280Z",
     "shell.execute_reply": "2022-08-20T18:57:35.481048Z"
    },
    "papermill": {
     "duration": 0.026065,
     "end_time": "2022-08-20T18:57:35.485101",
     "exception": false,
     "start_time": "2022-08-20T18:57:35.459036",
     "status": "completed"
    },
    "tags": []
   },
   "outputs": [
    {
     "name": "stdout",
     "output_type": "stream",
     "text": [
      "/kaggle/input/nlp-getting-started/sample_submission.csv\n",
      "/kaggle/input/nlp-getting-started/train.csv\n",
      "/kaggle/input/nlp-getting-started/test.csv\n"
     ]
    }
   ],
   "source": [
    "# This Python 3 environment comes with many helpful analytics libraries installed\n",
    "# It is defined by the kaggle/python Docker image: https://github.com/kaggle/docker-python\n",
    "# For example, here's several helpful packages to load\n",
    "\n",
    "import numpy as np # linear algebra\n",
    "import pandas as pd # data processing, CSV file I/O (e.g. pd.read_csv)\n",
    "\n",
    "# Input data files are available in the read-only \"../input/\" directory\n",
    "# For example, running this (by clicking run or pressing Shift+Enter) will list all files under the input directory\n",
    "\n",
    "import os\n",
    "for dirname, _, filenames in os.walk('/kaggle/input'):\n",
    "    for filename in filenames:\n",
    "        print(os.path.join(dirname, filename))\n",
    "\n",
    "# You can write up to 20GB to the current directory (/kaggle/working/) that gets preserved as output when you create a version using \"Save & Run All\" \n",
    "# You can also write temporary files to /kaggle/temp/, but they won't be saved outside of the current session"
   ]
  },
  {
   "cell_type": "code",
   "execution_count": 2,
   "id": "030ab3f8",
   "metadata": {
    "execution": {
     "iopub.execute_input": "2022-08-20T18:57:35.491432Z",
     "iopub.status.busy": "2022-08-20T18:57:35.491042Z",
     "iopub.status.idle": "2022-08-20T18:57:35.552401Z",
     "shell.execute_reply": "2022-08-20T18:57:35.551149Z"
    },
    "papermill": {
     "duration": 0.0673,
     "end_time": "2022-08-20T18:57:35.554859",
     "exception": false,
     "start_time": "2022-08-20T18:57:35.487559",
     "status": "completed"
    },
    "tags": []
   },
   "outputs": [
    {
     "data": {
      "text/html": [
       "<div>\n",
       "<style scoped>\n",
       "    .dataframe tbody tr th:only-of-type {\n",
       "        vertical-align: middle;\n",
       "    }\n",
       "\n",
       "    .dataframe tbody tr th {\n",
       "        vertical-align: top;\n",
       "    }\n",
       "\n",
       "    .dataframe thead th {\n",
       "        text-align: right;\n",
       "    }\n",
       "</style>\n",
       "<table border=\"1\" class=\"dataframe\">\n",
       "  <thead>\n",
       "    <tr style=\"text-align: right;\">\n",
       "      <th></th>\n",
       "      <th>id</th>\n",
       "      <th>keyword</th>\n",
       "      <th>location</th>\n",
       "      <th>text</th>\n",
       "      <th>target</th>\n",
       "    </tr>\n",
       "  </thead>\n",
       "  <tbody>\n",
       "    <tr>\n",
       "      <th>0</th>\n",
       "      <td>1</td>\n",
       "      <td>NaN</td>\n",
       "      <td>NaN</td>\n",
       "      <td>Our Deeds are the Reason of this #earthquake M...</td>\n",
       "      <td>1</td>\n",
       "    </tr>\n",
       "    <tr>\n",
       "      <th>1</th>\n",
       "      <td>4</td>\n",
       "      <td>NaN</td>\n",
       "      <td>NaN</td>\n",
       "      <td>Forest fire near La Ronge Sask. Canada</td>\n",
       "      <td>1</td>\n",
       "    </tr>\n",
       "    <tr>\n",
       "      <th>2</th>\n",
       "      <td>5</td>\n",
       "      <td>NaN</td>\n",
       "      <td>NaN</td>\n",
       "      <td>All residents asked to 'shelter in place' are ...</td>\n",
       "      <td>1</td>\n",
       "    </tr>\n",
       "    <tr>\n",
       "      <th>3</th>\n",
       "      <td>6</td>\n",
       "      <td>NaN</td>\n",
       "      <td>NaN</td>\n",
       "      <td>13,000 people receive #wildfires evacuation or...</td>\n",
       "      <td>1</td>\n",
       "    </tr>\n",
       "    <tr>\n",
       "      <th>4</th>\n",
       "      <td>7</td>\n",
       "      <td>NaN</td>\n",
       "      <td>NaN</td>\n",
       "      <td>Just got sent this photo from Ruby #Alaska as ...</td>\n",
       "      <td>1</td>\n",
       "    </tr>\n",
       "  </tbody>\n",
       "</table>\n",
       "</div>"
      ],
      "text/plain": [
       "   id keyword location                                               text  \\\n",
       "0   1     NaN      NaN  Our Deeds are the Reason of this #earthquake M...   \n",
       "1   4     NaN      NaN             Forest fire near La Ronge Sask. Canada   \n",
       "2   5     NaN      NaN  All residents asked to 'shelter in place' are ...   \n",
       "3   6     NaN      NaN  13,000 people receive #wildfires evacuation or...   \n",
       "4   7     NaN      NaN  Just got sent this photo from Ruby #Alaska as ...   \n",
       "\n",
       "   target  \n",
       "0       1  \n",
       "1       1  \n",
       "2       1  \n",
       "3       1  \n",
       "4       1  "
      ]
     },
     "execution_count": 2,
     "metadata": {},
     "output_type": "execute_result"
    }
   ],
   "source": [
    "train_data = pd.read_csv(\"/kaggle/input/nlp-getting-started/train.csv\")\n",
    "train_data.head()"
   ]
  },
  {
   "cell_type": "code",
   "execution_count": 3,
   "id": "4aaf25e6",
   "metadata": {
    "execution": {
     "iopub.execute_input": "2022-08-20T18:57:35.561889Z",
     "iopub.status.busy": "2022-08-20T18:57:35.560783Z",
     "iopub.status.idle": "2022-08-20T18:57:35.568445Z",
     "shell.execute_reply": "2022-08-20T18:57:35.567432Z"
    },
    "papermill": {
     "duration": 0.01344,
     "end_time": "2022-08-20T18:57:35.570800",
     "exception": false,
     "start_time": "2022-08-20T18:57:35.557360",
     "status": "completed"
    },
    "tags": []
   },
   "outputs": [],
   "source": [
    "def removeUpper(data):\n",
    "    '''\n",
    "        this takes in a data frame, and makes all of it lowercase\n",
    "    '''\n",
    "    lower(data)\n",
    "    return lower(data)\n",
    "\n",
    "def removeURL(data):\n",
    "    '''\n",
    "        this takes in a data frame, and removes any urls\n",
    "    '''\n",
    "    clean(data)\n",
    "    return data\n",
    "\n",
    "def removeHTML(data):\n",
    "    '''\n",
    "        this takes in a data frame, and removes any HTML elements\n",
    "    '''\n",
    "    clean(data)\n",
    "    return data\n",
    "\n",
    "def removeEmoji(data):\n",
    "    '''\n",
    "        this takes in a data frame, and removes all emojis\n",
    "    '''\n",
    "    clean(data)\n",
    "    return data\n",
    "\n",
    "def removeContractions(data):\n",
    "    '''\n",
    "        this takes in a data frame, and removes any contractions that are present\n",
    "    '''\n",
    "    clean(data)\n",
    "    return data"
   ]
  },
  {
   "cell_type": "code",
   "execution_count": null,
   "id": "1e162142",
   "metadata": {
    "papermill": {
     "duration": 0.002029,
     "end_time": "2022-08-20T18:57:35.575213",
     "exception": false,
     "start_time": "2022-08-20T18:57:35.573184",
     "status": "completed"
    },
    "tags": []
   },
   "outputs": [],
   "source": []
  }
 ],
 "metadata": {
  "kernelspec": {
   "display_name": "Python 3",
   "language": "python",
   "name": "python3"
  },
  "language_info": {
   "codemirror_mode": {
    "name": "ipython",
    "version": 3
   },
   "file_extension": ".py",
   "mimetype": "text/x-python",
   "name": "python",
   "nbconvert_exporter": "python",
   "pygments_lexer": "ipython3",
   "version": "3.7.12"
  },
  "papermill": {
   "default_parameters": {},
   "duration": 9.922644,
   "end_time": "2022-08-20T18:57:36.203788",
   "environment_variables": {},
   "exception": null,
   "input_path": "__notebook__.ipynb",
   "output_path": "__notebook__.ipynb",
   "parameters": {},
   "start_time": "2022-08-20T18:57:26.281144",
   "version": "2.3.4"
  }
 },
 "nbformat": 4,
 "nbformat_minor": 5
}
