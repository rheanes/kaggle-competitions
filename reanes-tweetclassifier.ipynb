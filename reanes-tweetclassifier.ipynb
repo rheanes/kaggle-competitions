{
 "cells": [
  {
   "cell_type": "code",
   "execution_count": 1,
   "id": "8d7cabf9",
   "metadata": {
    "_cell_guid": "b1076dfc-b9ad-4769-8c92-a6c4dae69d19",
    "_uuid": "8f2839f25d086af736a60e9eeb907d3b93b6e0e5",
    "execution": {
     "iopub.execute_input": "2022-08-20T20:15:27.917428Z",
     "iopub.status.busy": "2022-08-20T20:15:27.916831Z",
     "iopub.status.idle": "2022-08-20T20:15:29.924482Z",
     "shell.execute_reply": "2022-08-20T20:15:29.923123Z"
    },
    "papermill": {
     "duration": 2.018464,
     "end_time": "2022-08-20T20:15:29.928013",
     "exception": false,
     "start_time": "2022-08-20T20:15:27.909549",
     "status": "completed"
    },
    "tags": []
   },
   "outputs": [
    {
     "name": "stdout",
     "output_type": "stream",
     "text": [
      "/kaggle/input/nlp-getting-started/sample_submission.csv\n",
      "/kaggle/input/nlp-getting-started/train.csv\n",
      "/kaggle/input/nlp-getting-started/test.csv\n"
     ]
    },
    {
     "name": "stderr",
     "output_type": "stream",
     "text": [
      "[nltk_data] Downloading package stopwords to /usr/share/nltk_data...\n",
      "[nltk_data]   Package stopwords is already up-to-date!\n",
      "[nltk_data] Downloading package punkt to /usr/share/nltk_data...\n",
      "[nltk_data]   Package punkt is already up-to-date!\n"
     ]
    }
   ],
   "source": [
    "# This Python 3 environment comes with many helpful analytics libraries installed\n",
    "# It is defined by the kaggle/python Docker image: https://github.com/kaggle/docker-python\n",
    "# For example, here's several helpful packages to load\n",
    "\n",
    "import numpy as np # linear algebra\n",
    "import pandas as pd # data processing, CSV file I/O (e.g. pd.read_csv)\n",
    "import nltk\n",
    "nltk.download('stopwords')\n",
    "nltk.download('punkt')\n",
    "from nltk.corpus import stopwords\n",
    "from nltk.stem.porter import PorterStemmer\n",
    "from nltk.tokenize import word_tokenize\n",
    "import re\n",
    "import string\n",
    "\n",
    "# Input data files are available in the read-only \"../input/\" directory\n",
    "# For example, running this (by clicking run or pressing Shift+Enter) will list all files under the input directory\n",
    "\n",
    "import os\n",
    "for dirname, _, filenames in os.walk('/kaggle/input'):\n",
    "    for filename in filenames:\n",
    "        print(os.path.join(dirname, filename))\n",
    "\n",
    "# You can write up to 20GB to the current directory (/kaggle/working/) that gets preserved as output when you create a version using \"Save & Run All\" \n",
    "# You can also write temporary files to /kaggle/temp/, but they won't be saved outside of the current session"
   ]
  },
  {
   "cell_type": "code",
   "execution_count": 2,
   "id": "63334dc9",
   "metadata": {
    "execution": {
     "iopub.execute_input": "2022-08-20T20:15:29.937306Z",
     "iopub.status.busy": "2022-08-20T20:15:29.936616Z",
     "iopub.status.idle": "2022-08-20T20:15:30.015855Z",
     "shell.execute_reply": "2022-08-20T20:15:30.014808Z"
    },
    "papermill": {
     "duration": 0.086784,
     "end_time": "2022-08-20T20:15:30.018644",
     "exception": false,
     "start_time": "2022-08-20T20:15:29.931860",
     "status": "completed"
    },
    "tags": []
   },
   "outputs": [],
   "source": [
    "train = pd.read_csv(\"/kaggle/input/nlp-getting-started/train.csv\")\n",
    "test = pd.read_csv('../input/nlp-getting-started/test.csv')\n",
    "sub = pd.read_csv('../input/nlp-getting-started/sample_submission.csv')"
   ]
  },
  {
   "cell_type": "code",
   "execution_count": 3,
   "id": "30761398",
   "metadata": {
    "execution": {
     "iopub.execute_input": "2022-08-20T20:15:30.027629Z",
     "iopub.status.busy": "2022-08-20T20:15:30.027019Z",
     "iopub.status.idle": "2022-08-20T20:15:30.049748Z",
     "shell.execute_reply": "2022-08-20T20:15:30.048390Z"
    },
    "papermill": {
     "duration": 0.030139,
     "end_time": "2022-08-20T20:15:30.052308",
     "exception": false,
     "start_time": "2022-08-20T20:15:30.022169",
     "status": "completed"
    },
    "tags": []
   },
   "outputs": [
    {
     "data": {
      "text/html": [
       "<div>\n",
       "<style scoped>\n",
       "    .dataframe tbody tr th:only-of-type {\n",
       "        vertical-align: middle;\n",
       "    }\n",
       "\n",
       "    .dataframe tbody tr th {\n",
       "        vertical-align: top;\n",
       "    }\n",
       "\n",
       "    .dataframe thead th {\n",
       "        text-align: right;\n",
       "    }\n",
       "</style>\n",
       "<table border=\"1\" class=\"dataframe\">\n",
       "  <thead>\n",
       "    <tr style=\"text-align: right;\">\n",
       "      <th></th>\n",
       "      <th>id</th>\n",
       "      <th>keyword</th>\n",
       "      <th>location</th>\n",
       "      <th>text</th>\n",
       "      <th>target</th>\n",
       "    </tr>\n",
       "  </thead>\n",
       "  <tbody>\n",
       "    <tr>\n",
       "      <th>0</th>\n",
       "      <td>1</td>\n",
       "      <td>NaN</td>\n",
       "      <td>NaN</td>\n",
       "      <td>Our Deeds are the Reason of this #earthquake M...</td>\n",
       "      <td>1</td>\n",
       "    </tr>\n",
       "    <tr>\n",
       "      <th>1</th>\n",
       "      <td>4</td>\n",
       "      <td>NaN</td>\n",
       "      <td>NaN</td>\n",
       "      <td>Forest fire near La Ronge Sask. Canada</td>\n",
       "      <td>1</td>\n",
       "    </tr>\n",
       "    <tr>\n",
       "      <th>2</th>\n",
       "      <td>5</td>\n",
       "      <td>NaN</td>\n",
       "      <td>NaN</td>\n",
       "      <td>All residents asked to 'shelter in place' are ...</td>\n",
       "      <td>1</td>\n",
       "    </tr>\n",
       "    <tr>\n",
       "      <th>3</th>\n",
       "      <td>6</td>\n",
       "      <td>NaN</td>\n",
       "      <td>NaN</td>\n",
       "      <td>13,000 people receive #wildfires evacuation or...</td>\n",
       "      <td>1</td>\n",
       "    </tr>\n",
       "    <tr>\n",
       "      <th>4</th>\n",
       "      <td>7</td>\n",
       "      <td>NaN</td>\n",
       "      <td>NaN</td>\n",
       "      <td>Just got sent this photo from Ruby #Alaska as ...</td>\n",
       "      <td>1</td>\n",
       "    </tr>\n",
       "  </tbody>\n",
       "</table>\n",
       "</div>"
      ],
      "text/plain": [
       "   id keyword location                                               text  \\\n",
       "0   1     NaN      NaN  Our Deeds are the Reason of this #earthquake M...   \n",
       "1   4     NaN      NaN             Forest fire near La Ronge Sask. Canada   \n",
       "2   5     NaN      NaN  All residents asked to 'shelter in place' are ...   \n",
       "3   6     NaN      NaN  13,000 people receive #wildfires evacuation or...   \n",
       "4   7     NaN      NaN  Just got sent this photo from Ruby #Alaska as ...   \n",
       "\n",
       "   target  \n",
       "0       1  \n",
       "1       1  \n",
       "2       1  \n",
       "3       1  \n",
       "4       1  "
      ]
     },
     "execution_count": 3,
     "metadata": {},
     "output_type": "execute_result"
    }
   ],
   "source": [
    "train.head()"
   ]
  },
  {
   "cell_type": "code",
   "execution_count": 4,
   "id": "9a36e186",
   "metadata": {
    "execution": {
     "iopub.execute_input": "2022-08-20T20:15:30.062541Z",
     "iopub.status.busy": "2022-08-20T20:15:30.061352Z",
     "iopub.status.idle": "2022-08-20T20:15:30.072379Z",
     "shell.execute_reply": "2022-08-20T20:15:30.071110Z"
    },
    "papermill": {
     "duration": 0.018944,
     "end_time": "2022-08-20T20:15:30.074813",
     "exception": false,
     "start_time": "2022-08-20T20:15:30.055869",
     "status": "completed"
    },
    "tags": []
   },
   "outputs": [
    {
     "data": {
      "text/plain": [
       "id             0\n",
       "keyword       61\n",
       "location    2533\n",
       "text           0\n",
       "target         0\n",
       "dtype: int64"
      ]
     },
     "execution_count": 4,
     "metadata": {},
     "output_type": "execute_result"
    }
   ],
   "source": [
    "#look over train set\n",
    "train.isnull().sum()"
   ]
  },
  {
   "cell_type": "code",
   "execution_count": 5,
   "id": "70739a72",
   "metadata": {
    "execution": {
     "iopub.execute_input": "2022-08-20T20:15:30.083611Z",
     "iopub.status.busy": "2022-08-20T20:15:30.083210Z",
     "iopub.status.idle": "2022-08-20T20:15:30.103006Z",
     "shell.execute_reply": "2022-08-20T20:15:30.101801Z"
    },
    "papermill": {
     "duration": 0.0275,
     "end_time": "2022-08-20T20:15:30.106003",
     "exception": false,
     "start_time": "2022-08-20T20:15:30.078503",
     "status": "completed"
    },
    "tags": []
   },
   "outputs": [],
   "source": [
    "#drop duplicates\n",
    "train = train.drop_duplicates(subset=['text', 'target'], keep='first')"
   ]
  },
  {
   "cell_type": "code",
   "execution_count": 6,
   "id": "1015f965",
   "metadata": {
    "execution": {
     "iopub.execute_input": "2022-08-20T20:15:30.114983Z",
     "iopub.status.busy": "2022-08-20T20:15:30.114538Z",
     "iopub.status.idle": "2022-08-20T20:15:30.121491Z",
     "shell.execute_reply": "2022-08-20T20:15:30.120297Z"
    },
    "papermill": {
     "duration": 0.014259,
     "end_time": "2022-08-20T20:15:30.123869",
     "exception": false,
     "start_time": "2022-08-20T20:15:30.109610",
     "status": "completed"
    },
    "tags": []
   },
   "outputs": [
    {
     "data": {
      "text/plain": [
       "(7521, 5)"
      ]
     },
     "execution_count": 6,
     "metadata": {},
     "output_type": "execute_result"
    }
   ],
   "source": [
    "train.shape"
   ]
  },
  {
   "cell_type": "code",
   "execution_count": 7,
   "id": "1581e472",
   "metadata": {
    "execution": {
     "iopub.execute_input": "2022-08-20T20:15:30.133690Z",
     "iopub.status.busy": "2022-08-20T20:15:30.132549Z",
     "iopub.status.idle": "2022-08-20T20:15:30.141513Z",
     "shell.execute_reply": "2022-08-20T20:15:30.140729Z"
    },
    "papermill": {
     "duration": 0.016871,
     "end_time": "2022-08-20T20:15:30.144389",
     "exception": false,
     "start_time": "2022-08-20T20:15:30.127518",
     "status": "completed"
    },
    "tags": []
   },
   "outputs": [],
   "source": [
    "pstem = PorterStemmer()\n",
    "def cleanText(text):\n",
    "    '''\n",
    "        this takes in text, which will be pulled from the text part of the dataframe\n",
    "        cleaning: remove punctuation -> lowercase all letters-> remove url -> remove stopwords\n",
    "        ->tokenize -> stem\n",
    "        \n",
    "        removing punctuaution will get rid of all emojis, and most urls. \n",
    "    '''\n",
    "    text = text.lower()\n",
    "    text = re.sub('[0-9]', '', text)\n",
    "    text = \"\".join([char for char in text if char not in string.punctuation])\n",
    "    tokens = word_tokenize(text)\n",
    "    tokens = [pstem.stem(word) for word in tokens]\n",
    "    tokens = [word for word in tokens if word not in stopwords.words('english')]\n",
    "    text = ' '.join(tokens)\n",
    "    \n",
    "    return text\n"
   ]
  },
  {
   "cell_type": "code",
   "execution_count": 8,
   "id": "267974d9",
   "metadata": {
    "execution": {
     "iopub.execute_input": "2022-08-20T20:15:30.153090Z",
     "iopub.status.busy": "2022-08-20T20:15:30.152723Z",
     "iopub.status.idle": "2022-08-20T20:15:57.707175Z",
     "shell.execute_reply": "2022-08-20T20:15:57.706177Z"
    },
    "papermill": {
     "duration": 27.561808,
     "end_time": "2022-08-20T20:15:57.709851",
     "exception": false,
     "start_time": "2022-08-20T20:15:30.148043",
     "status": "completed"
    },
    "tags": []
   },
   "outputs": [],
   "source": [
    "train[\"clean\"] = train[\"text\"].apply(cleanText)\n",
    "test[\"clean\"] = test[\"text\"].apply(cleanText)"
   ]
  },
  {
   "cell_type": "code",
   "execution_count": 9,
   "id": "70101330",
   "metadata": {
    "execution": {
     "iopub.execute_input": "2022-08-20T20:15:57.719348Z",
     "iopub.status.busy": "2022-08-20T20:15:57.718624Z",
     "iopub.status.idle": "2022-08-20T20:15:57.732012Z",
     "shell.execute_reply": "2022-08-20T20:15:57.730988Z"
    },
    "papermill": {
     "duration": 0.021221,
     "end_time": "2022-08-20T20:15:57.734876",
     "exception": false,
     "start_time": "2022-08-20T20:15:57.713655",
     "status": "completed"
    },
    "tags": []
   },
   "outputs": [
    {
     "data": {
      "text/html": [
       "<div>\n",
       "<style scoped>\n",
       "    .dataframe tbody tr th:only-of-type {\n",
       "        vertical-align: middle;\n",
       "    }\n",
       "\n",
       "    .dataframe tbody tr th {\n",
       "        vertical-align: top;\n",
       "    }\n",
       "\n",
       "    .dataframe thead th {\n",
       "        text-align: right;\n",
       "    }\n",
       "</style>\n",
       "<table border=\"1\" class=\"dataframe\">\n",
       "  <thead>\n",
       "    <tr style=\"text-align: right;\">\n",
       "      <th></th>\n",
       "      <th>text</th>\n",
       "      <th>clean</th>\n",
       "    </tr>\n",
       "  </thead>\n",
       "  <tbody>\n",
       "    <tr>\n",
       "      <th>0</th>\n",
       "      <td>Our Deeds are the Reason of this #earthquake M...</td>\n",
       "      <td>deed reason thi earthquak may allah forgiv us</td>\n",
       "    </tr>\n",
       "    <tr>\n",
       "      <th>1</th>\n",
       "      <td>Forest fire near La Ronge Sask. Canada</td>\n",
       "      <td>forest fire near la rong sask canada</td>\n",
       "    </tr>\n",
       "    <tr>\n",
       "      <th>2</th>\n",
       "      <td>All residents asked to 'shelter in place' are ...</td>\n",
       "      <td>resid ask shelter place notifi offic evacu she...</td>\n",
       "    </tr>\n",
       "    <tr>\n",
       "      <th>3</th>\n",
       "      <td>13,000 people receive #wildfires evacuation or...</td>\n",
       "      <td>peopl receiv wildfir evacu order california</td>\n",
       "    </tr>\n",
       "    <tr>\n",
       "      <th>4</th>\n",
       "      <td>Just got sent this photo from Ruby #Alaska as ...</td>\n",
       "      <td>got sent thi photo rubi alaska smoke wildfir p...</td>\n",
       "    </tr>\n",
       "  </tbody>\n",
       "</table>\n",
       "</div>"
      ],
      "text/plain": [
       "                                                text  \\\n",
       "0  Our Deeds are the Reason of this #earthquake M...   \n",
       "1             Forest fire near La Ronge Sask. Canada   \n",
       "2  All residents asked to 'shelter in place' are ...   \n",
       "3  13,000 people receive #wildfires evacuation or...   \n",
       "4  Just got sent this photo from Ruby #Alaska as ...   \n",
       "\n",
       "                                               clean  \n",
       "0      deed reason thi earthquak may allah forgiv us  \n",
       "1               forest fire near la rong sask canada  \n",
       "2  resid ask shelter place notifi offic evacu she...  \n",
       "3        peopl receiv wildfir evacu order california  \n",
       "4  got sent thi photo rubi alaska smoke wildfir p...  "
      ]
     },
     "execution_count": 9,
     "metadata": {},
     "output_type": "execute_result"
    }
   ],
   "source": [
    "train[[\"text\",\"clean\"]].head()"
   ]
  }
 ],
 "metadata": {
  "kernelspec": {
   "display_name": "Python 3",
   "language": "python",
   "name": "python3"
  },
  "language_info": {
   "codemirror_mode": {
    "name": "ipython",
    "version": 3
   },
   "file_extension": ".py",
   "mimetype": "text/x-python",
   "name": "python",
   "nbconvert_exporter": "python",
   "pygments_lexer": "ipython3",
   "version": "3.7.12"
  },
  "papermill": {
   "default_parameters": {},
   "duration": 39.694608,
   "end_time": "2022-08-20T20:15:58.460661",
   "environment_variables": {},
   "exception": null,
   "input_path": "__notebook__.ipynb",
   "output_path": "__notebook__.ipynb",
   "parameters": {},
   "start_time": "2022-08-20T20:15:18.766053",
   "version": "2.3.4"
  }
 },
 "nbformat": 4,
 "nbformat_minor": 5
}
